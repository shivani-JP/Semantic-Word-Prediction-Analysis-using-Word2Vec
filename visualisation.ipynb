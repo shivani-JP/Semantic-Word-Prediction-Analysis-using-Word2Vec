{
 "cells": [
  {
   "cell_type": "code",
   "execution_count": 53,
   "metadata": {},
   "outputs": [],
   "source": [
    "import csv\n",
    " \n",
    "# open .tsv file\n",
    "with open(\"/Users/Shivanij/Documents/projcts/word2vec/vocab/metadata.tsv\") as file:\n",
    "       \n",
    "    # Passing the TSV file to \n",
    "    # reader() function\n",
    "    # with tab delimiter\n",
    "    # This function will\n",
    "    # read data from file\n",
    "    # vocab = csv.reader(file, delimiter=\"\\t\")\n",
    "    vocab = file.read().splitlines()\n",
    "     \n",
    "    # printing data line by line"
   ]
  },
  {
   "cell_type": "code",
   "execution_count": null,
   "metadata": {},
   "outputs": [],
   "source": [
    "len(vocab)\n",
    "vocab"
   ]
  },
  {
   "cell_type": "code",
   "execution_count": 48,
   "metadata": {},
   "outputs": [
    {
     "data": {
      "text/plain": [
       "784"
      ]
     },
     "execution_count": 48,
     "metadata": {},
     "output_type": "execute_result"
    }
   ],
   "source": [
    "vocab.index('queen')\n"
   ]
  },
  {
   "cell_type": "code",
   "execution_count": 84,
   "metadata": {},
   "outputs": [],
   "source": [
    "# open .tsv file\n",
    "import pandas as pd\n",
    "with open(\"/Users/AbhishekGupta/Downloads/metadata.tsv\") as file:\n",
    "\n",
    "       \n",
    "    # Passing the TSV file to \n",
    "    # reader() function\n",
    "    # with tab delimiter\n",
    "    # This function will\n",
    "    # read data from file\n",
    "    vectors = file.read().splitlines()"
   ]
  },
  {
   "cell_type": "code",
   "execution_count": 85,
   "metadata": {},
   "outputs": [],
   "source": [
    "import pandas as pd\n",
    "weights = pd.read_csv(\"/Users/Shivanij/Downloads/vectors.tsv\", sep=\"\\t\", header=None)\n"
   ]
  },
  {
   "cell_type": "code",
   "execution_count": 86,
   "metadata": {},
   "outputs": [
    {
     "data": {
      "text/html": [
       "<div>\n",
       "<style scoped>\n",
       "    .dataframe tbody tr th:only-of-type {\n",
       "        vertical-align: middle;\n",
       "    }\n",
       "\n",
       "    .dataframe tbody tr th {\n",
       "        vertical-align: top;\n",
       "    }\n",
       "\n",
       "    .dataframe thead th {\n",
       "        text-align: right;\n",
       "    }\n",
       "</style>\n",
       "<table border=\"1\" class=\"dataframe\">\n",
       "  <thead>\n",
       "    <tr style=\"text-align: right;\">\n",
       "      <th></th>\n",
       "      <th>0</th>\n",
       "      <th>1</th>\n",
       "      <th>2</th>\n",
       "      <th>3</th>\n",
       "      <th>4</th>\n",
       "      <th>5</th>\n",
       "      <th>6</th>\n",
       "      <th>7</th>\n",
       "      <th>8</th>\n",
       "      <th>9</th>\n",
       "      <th>...</th>\n",
       "      <th>54</th>\n",
       "      <th>55</th>\n",
       "      <th>56</th>\n",
       "      <th>57</th>\n",
       "      <th>58</th>\n",
       "      <th>59</th>\n",
       "      <th>60</th>\n",
       "      <th>61</th>\n",
       "      <th>62</th>\n",
       "      <th>63</th>\n",
       "    </tr>\n",
       "  </thead>\n",
       "  <tbody>\n",
       "    <tr>\n",
       "      <th>0</th>\n",
       "      <td>-0.385438</td>\n",
       "      <td>0.148089</td>\n",
       "      <td>0.310665</td>\n",
       "      <td>-0.446283</td>\n",
       "      <td>-0.090093</td>\n",
       "      <td>-0.157412</td>\n",
       "      <td>-0.023625</td>\n",
       "      <td>-0.114054</td>\n",
       "      <td>-0.149465</td>\n",
       "      <td>0.105903</td>\n",
       "      <td>...</td>\n",
       "      <td>0.189057</td>\n",
       "      <td>-0.195476</td>\n",
       "      <td>-0.122747</td>\n",
       "      <td>0.441823</td>\n",
       "      <td>-0.091841</td>\n",
       "      <td>0.252411</td>\n",
       "      <td>-0.117418</td>\n",
       "      <td>0.151265</td>\n",
       "      <td>0.342673</td>\n",
       "      <td>0.327229</td>\n",
       "    </tr>\n",
       "    <tr>\n",
       "      <th>1</th>\n",
       "      <td>-0.229028</td>\n",
       "      <td>-0.136749</td>\n",
       "      <td>0.022267</td>\n",
       "      <td>0.455718</td>\n",
       "      <td>0.090111</td>\n",
       "      <td>-0.234196</td>\n",
       "      <td>0.024501</td>\n",
       "      <td>-0.285373</td>\n",
       "      <td>-0.086937</td>\n",
       "      <td>0.373498</td>\n",
       "      <td>...</td>\n",
       "      <td>-0.108516</td>\n",
       "      <td>0.160940</td>\n",
       "      <td>0.037152</td>\n",
       "      <td>-0.132250</td>\n",
       "      <td>-0.385868</td>\n",
       "      <td>0.099201</td>\n",
       "      <td>-0.032256</td>\n",
       "      <td>0.067991</td>\n",
       "      <td>0.323459</td>\n",
       "      <td>0.044128</td>\n",
       "    </tr>\n",
       "    <tr>\n",
       "      <th>2</th>\n",
       "      <td>0.167370</td>\n",
       "      <td>-0.218357</td>\n",
       "      <td>-0.296707</td>\n",
       "      <td>-0.018330</td>\n",
       "      <td>0.335566</td>\n",
       "      <td>-0.174621</td>\n",
       "      <td>0.332058</td>\n",
       "      <td>-0.342526</td>\n",
       "      <td>-0.131010</td>\n",
       "      <td>0.156943</td>\n",
       "      <td>...</td>\n",
       "      <td>-0.249215</td>\n",
       "      <td>-0.130162</td>\n",
       "      <td>0.308741</td>\n",
       "      <td>0.090768</td>\n",
       "      <td>0.159964</td>\n",
       "      <td>0.114442</td>\n",
       "      <td>0.161858</td>\n",
       "      <td>-0.002381</td>\n",
       "      <td>-0.073261</td>\n",
       "      <td>0.058798</td>\n",
       "    </tr>\n",
       "    <tr>\n",
       "      <th>3</th>\n",
       "      <td>0.301472</td>\n",
       "      <td>-0.393687</td>\n",
       "      <td>-0.198852</td>\n",
       "      <td>0.165331</td>\n",
       "      <td>0.184604</td>\n",
       "      <td>-0.294037</td>\n",
       "      <td>-0.015305</td>\n",
       "      <td>-0.055782</td>\n",
       "      <td>0.021861</td>\n",
       "      <td>0.150921</td>\n",
       "      <td>...</td>\n",
       "      <td>0.034511</td>\n",
       "      <td>0.231769</td>\n",
       "      <td>0.412646</td>\n",
       "      <td>-0.079303</td>\n",
       "      <td>0.010550</td>\n",
       "      <td>-0.205158</td>\n",
       "      <td>0.201611</td>\n",
       "      <td>-0.023241</td>\n",
       "      <td>0.281360</td>\n",
       "      <td>-0.221008</td>\n",
       "    </tr>\n",
       "    <tr>\n",
       "      <th>4</th>\n",
       "      <td>0.145240</td>\n",
       "      <td>-0.411047</td>\n",
       "      <td>-0.028476</td>\n",
       "      <td>0.462348</td>\n",
       "      <td>0.172023</td>\n",
       "      <td>-0.304326</td>\n",
       "      <td>0.036375</td>\n",
       "      <td>-0.286881</td>\n",
       "      <td>-0.142415</td>\n",
       "      <td>-0.030942</td>\n",
       "      <td>...</td>\n",
       "      <td>-0.356835</td>\n",
       "      <td>0.128931</td>\n",
       "      <td>0.265321</td>\n",
       "      <td>-0.066462</td>\n",
       "      <td>-0.341682</td>\n",
       "      <td>0.096844</td>\n",
       "      <td>0.052842</td>\n",
       "      <td>0.187429</td>\n",
       "      <td>0.142330</td>\n",
       "      <td>-0.217211</td>\n",
       "    </tr>\n",
       "    <tr>\n",
       "      <th>...</th>\n",
       "      <td>...</td>\n",
       "      <td>...</td>\n",
       "      <td>...</td>\n",
       "      <td>...</td>\n",
       "      <td>...</td>\n",
       "      <td>...</td>\n",
       "      <td>...</td>\n",
       "      <td>...</td>\n",
       "      <td>...</td>\n",
       "      <td>...</td>\n",
       "      <td>...</td>\n",
       "      <td>...</td>\n",
       "      <td>...</td>\n",
       "      <td>...</td>\n",
       "      <td>...</td>\n",
       "      <td>...</td>\n",
       "      <td>...</td>\n",
       "      <td>...</td>\n",
       "      <td>...</td>\n",
       "      <td>...</td>\n",
       "      <td>...</td>\n",
       "    </tr>\n",
       "    <tr>\n",
       "      <th>63485</th>\n",
       "      <td>-0.024236</td>\n",
       "      <td>0.025747</td>\n",
       "      <td>-0.006216</td>\n",
       "      <td>-0.021539</td>\n",
       "      <td>-0.049762</td>\n",
       "      <td>0.000731</td>\n",
       "      <td>-0.023853</td>\n",
       "      <td>-0.037408</td>\n",
       "      <td>-0.035333</td>\n",
       "      <td>0.000869</td>\n",
       "      <td>...</td>\n",
       "      <td>-0.012775</td>\n",
       "      <td>0.039284</td>\n",
       "      <td>-0.025835</td>\n",
       "      <td>0.033607</td>\n",
       "      <td>-0.009575</td>\n",
       "      <td>0.037246</td>\n",
       "      <td>-0.037697</td>\n",
       "      <td>-0.035117</td>\n",
       "      <td>-0.001200</td>\n",
       "      <td>0.034626</td>\n",
       "    </tr>\n",
       "    <tr>\n",
       "      <th>63486</th>\n",
       "      <td>-0.016411</td>\n",
       "      <td>0.010593</td>\n",
       "      <td>0.035496</td>\n",
       "      <td>-0.042268</td>\n",
       "      <td>-0.007979</td>\n",
       "      <td>0.013924</td>\n",
       "      <td>0.027819</td>\n",
       "      <td>0.045344</td>\n",
       "      <td>-0.011014</td>\n",
       "      <td>-0.011366</td>\n",
       "      <td>...</td>\n",
       "      <td>0.026823</td>\n",
       "      <td>-0.022810</td>\n",
       "      <td>0.024906</td>\n",
       "      <td>-0.023698</td>\n",
       "      <td>0.008504</td>\n",
       "      <td>0.008742</td>\n",
       "      <td>0.035074</td>\n",
       "      <td>0.006371</td>\n",
       "      <td>-0.029537</td>\n",
       "      <td>0.011872</td>\n",
       "    </tr>\n",
       "    <tr>\n",
       "      <th>63487</th>\n",
       "      <td>-0.011559</td>\n",
       "      <td>0.031848</td>\n",
       "      <td>-0.005094</td>\n",
       "      <td>0.014374</td>\n",
       "      <td>0.005511</td>\n",
       "      <td>0.038369</td>\n",
       "      <td>0.003966</td>\n",
       "      <td>-0.022484</td>\n",
       "      <td>0.019343</td>\n",
       "      <td>0.000618</td>\n",
       "      <td>...</td>\n",
       "      <td>-0.039386</td>\n",
       "      <td>-0.006563</td>\n",
       "      <td>-0.026951</td>\n",
       "      <td>0.032473</td>\n",
       "      <td>-0.000901</td>\n",
       "      <td>0.022861</td>\n",
       "      <td>0.036855</td>\n",
       "      <td>0.047579</td>\n",
       "      <td>-0.032828</td>\n",
       "      <td>0.000495</td>\n",
       "    </tr>\n",
       "    <tr>\n",
       "      <th>63488</th>\n",
       "      <td>0.035357</td>\n",
       "      <td>0.012408</td>\n",
       "      <td>0.023874</td>\n",
       "      <td>0.003304</td>\n",
       "      <td>-0.018467</td>\n",
       "      <td>0.007641</td>\n",
       "      <td>-0.031031</td>\n",
       "      <td>0.031474</td>\n",
       "      <td>-0.024440</td>\n",
       "      <td>0.019822</td>\n",
       "      <td>...</td>\n",
       "      <td>-0.008240</td>\n",
       "      <td>-0.036434</td>\n",
       "      <td>0.003137</td>\n",
       "      <td>0.023414</td>\n",
       "      <td>0.040288</td>\n",
       "      <td>-0.048815</td>\n",
       "      <td>0.017311</td>\n",
       "      <td>-0.043248</td>\n",
       "      <td>-0.047704</td>\n",
       "      <td>0.041272</td>\n",
       "    </tr>\n",
       "    <tr>\n",
       "      <th>63489</th>\n",
       "      <td>0.046863</td>\n",
       "      <td>0.016596</td>\n",
       "      <td>-0.018640</td>\n",
       "      <td>0.023289</td>\n",
       "      <td>0.034573</td>\n",
       "      <td>0.032081</td>\n",
       "      <td>-0.023459</td>\n",
       "      <td>0.049339</td>\n",
       "      <td>0.049045</td>\n",
       "      <td>-0.046332</td>\n",
       "      <td>...</td>\n",
       "      <td>0.014203</td>\n",
       "      <td>0.001260</td>\n",
       "      <td>-0.043665</td>\n",
       "      <td>0.005337</td>\n",
       "      <td>-0.036994</td>\n",
       "      <td>0.035157</td>\n",
       "      <td>0.006273</td>\n",
       "      <td>0.044345</td>\n",
       "      <td>-0.034883</td>\n",
       "      <td>-0.011053</td>\n",
       "    </tr>\n",
       "  </tbody>\n",
       "</table>\n",
       "<p>63490 rows × 64 columns</p>\n",
       "</div>"
      ],
      "text/plain": [
       "             0         1         2         3         4         5         6   \\\n",
       "0     -0.385438  0.148089  0.310665 -0.446283 -0.090093 -0.157412 -0.023625   \n",
       "1     -0.229028 -0.136749  0.022267  0.455718  0.090111 -0.234196  0.024501   \n",
       "2      0.167370 -0.218357 -0.296707 -0.018330  0.335566 -0.174621  0.332058   \n",
       "3      0.301472 -0.393687 -0.198852  0.165331  0.184604 -0.294037 -0.015305   \n",
       "4      0.145240 -0.411047 -0.028476  0.462348  0.172023 -0.304326  0.036375   \n",
       "...         ...       ...       ...       ...       ...       ...       ...   \n",
       "63485 -0.024236  0.025747 -0.006216 -0.021539 -0.049762  0.000731 -0.023853   \n",
       "63486 -0.016411  0.010593  0.035496 -0.042268 -0.007979  0.013924  0.027819   \n",
       "63487 -0.011559  0.031848 -0.005094  0.014374  0.005511  0.038369  0.003966   \n",
       "63488  0.035357  0.012408  0.023874  0.003304 -0.018467  0.007641 -0.031031   \n",
       "63489  0.046863  0.016596 -0.018640  0.023289  0.034573  0.032081 -0.023459   \n",
       "\n",
       "             7         8         9   ...        54        55        56  \\\n",
       "0     -0.114054 -0.149465  0.105903  ...  0.189057 -0.195476 -0.122747   \n",
       "1     -0.285373 -0.086937  0.373498  ... -0.108516  0.160940  0.037152   \n",
       "2     -0.342526 -0.131010  0.156943  ... -0.249215 -0.130162  0.308741   \n",
       "3     -0.055782  0.021861  0.150921  ...  0.034511  0.231769  0.412646   \n",
       "4     -0.286881 -0.142415 -0.030942  ... -0.356835  0.128931  0.265321   \n",
       "...         ...       ...       ...  ...       ...       ...       ...   \n",
       "63485 -0.037408 -0.035333  0.000869  ... -0.012775  0.039284 -0.025835   \n",
       "63486  0.045344 -0.011014 -0.011366  ...  0.026823 -0.022810  0.024906   \n",
       "63487 -0.022484  0.019343  0.000618  ... -0.039386 -0.006563 -0.026951   \n",
       "63488  0.031474 -0.024440  0.019822  ... -0.008240 -0.036434  0.003137   \n",
       "63489  0.049339  0.049045 -0.046332  ...  0.014203  0.001260 -0.043665   \n",
       "\n",
       "             57        58        59        60        61        62        63  \n",
       "0      0.441823 -0.091841  0.252411 -0.117418  0.151265  0.342673  0.327229  \n",
       "1     -0.132250 -0.385868  0.099201 -0.032256  0.067991  0.323459  0.044128  \n",
       "2      0.090768  0.159964  0.114442  0.161858 -0.002381 -0.073261  0.058798  \n",
       "3     -0.079303  0.010550 -0.205158  0.201611 -0.023241  0.281360 -0.221008  \n",
       "4     -0.066462 -0.341682  0.096844  0.052842  0.187429  0.142330 -0.217211  \n",
       "...         ...       ...       ...       ...       ...       ...       ...  \n",
       "63485  0.033607 -0.009575  0.037246 -0.037697 -0.035117 -0.001200  0.034626  \n",
       "63486 -0.023698  0.008504  0.008742  0.035074  0.006371 -0.029537  0.011872  \n",
       "63487  0.032473 -0.000901  0.022861  0.036855  0.047579 -0.032828  0.000495  \n",
       "63488  0.023414  0.040288 -0.048815  0.017311 -0.043248 -0.047704  0.041272  \n",
       "63489  0.005337 -0.036994  0.035157  0.006273  0.044345 -0.034883 -0.011053  \n",
       "\n",
       "[63490 rows x 64 columns]"
      ]
     },
     "execution_count": 86,
     "metadata": {},
     "output_type": "execute_result"
    }
   ],
   "source": [
    "weights"
   ]
  },
  {
   "cell_type": "code",
   "execution_count": 87,
   "metadata": {},
   "outputs": [
    {
     "name": "stdout",
     "output_type": "stream",
     "text": [
      "Variance explained by each component -  [0.13328876 0.08095165]\n",
      "Variance explained by 2 components  21.42 %\n",
      "Co-effecient of original component to the PCA axis -  [[-0.01134618 -0.12664569  0.17085232  0.00507966 -0.1406988  -0.09960882\n",
      "   0.13182749  0.02520543  0.13050326 -0.0983587   0.02950647 -0.16244581\n",
      "  -0.10809729  0.07808869 -0.15091482  0.18461603  0.05645741  0.1365714\n",
      "  -0.11258365 -0.05648988 -0.1389301   0.05077521 -0.12539814  0.02441185\n",
      "   0.12446218  0.15791711 -0.09239806 -0.14543882  0.14530039 -0.18283868\n",
      "  -0.14959392 -0.17264925  0.13981644  0.18150746 -0.01831926 -0.15600542\n",
      "   0.13833536 -0.05094263  0.09994092 -0.11870722 -0.17029912 -0.11395713\n",
      "  -0.15805857  0.06321956 -0.11277829  0.12559576  0.13371076 -0.00929261\n",
      "  -0.10293924 -0.05919669 -0.12749513  0.13096655  0.13192746  0.01028012\n",
      "  -0.09227206  0.11576392 -0.20184374  0.14539069 -0.14887157  0.1891071\n",
      "  -0.18009828  0.17264606  0.09050357  0.08916978]\n",
      " [-0.22719597  0.07350011  0.02288195  0.11107177  0.26068888 -0.09554755\n",
      "   0.00384733 -0.20956996  0.08528341  0.07283384  0.21135901 -0.05745372\n",
      "  -0.14671159  0.18698528  0.0017819  -0.03840614 -0.27578444 -0.05128614\n",
      "  -0.04674399  0.17249026  0.01331145  0.2157244  -0.00604334  0.01863481\n",
      "   0.09767666 -0.03427917 -0.02296077  0.0162487  -0.06187525 -0.00428065\n",
      "  -0.0374882   0.01622857 -0.01674225 -0.02357893  0.25739951 -0.01448248\n",
      "   0.03916102  0.04119658  0.02442312 -0.12837365  0.03839156  0.24529199\n",
      "  -0.05335676 -0.2684068  -0.04510983  0.10982829  0.02714815  0.08237142\n",
      "  -0.12758949 -0.20926285 -0.03919653 -0.21174556  0.03073192  0.25434503\n",
      "  -0.12458583  0.12898271  0.14049292 -0.00115648 -0.05017903 -0.08691633\n",
      "  -0.01330773 -0.03311139  0.17555463  0.06272131]]\n"
     ]
    }
   ],
   "source": [
    "from sklearn.decomposition import PCA\n",
    "pca = PCA(n_components=2)\n",
    "weightDFPCA = pca.fit_transform(weights.to_numpy())\n",
    "print('Variance explained by each component - ', pca.explained_variance_ratio_)\n",
    "print('Variance explained by 2 components ', round((sum(pca.explained_variance_ratio_)*100),2), '%' )\n",
    "print('Co-effecient of original component to the PCA axis - ', pca.components_)"
   ]
  },
  {
   "cell_type": "code",
   "execution_count": 88,
   "metadata": {},
   "outputs": [
    {
     "data": {
      "text/plain": [
       "100"
      ]
     },
     "execution_count": 88,
     "metadata": {},
     "output_type": "execute_result"
    }
   ],
   "source": [
    "vocab.index('king')"
   ]
  },
  {
   "cell_type": "code",
   "execution_count": 89,
   "metadata": {},
   "outputs": [],
   "source": [
    "myVocab = ['king', 'man', 'woman', 'queen']\n",
    "index = []\n",
    "for cab in myVocab:\n",
    "    index.append(vocab.index(cab))    "
   ]
  },
  {
   "cell_type": "code",
   "execution_count": 90,
   "metadata": {},
   "outputs": [
    {
     "data": {
      "text/plain": [
       "[100, 151, 891, 784]"
      ]
     },
     "execution_count": 90,
     "metadata": {},
     "output_type": "execute_result"
    }
   ],
   "source": [
    "index"
   ]
  },
  {
   "cell_type": "code",
   "execution_count": 91,
   "metadata": {},
   "outputs": [
    {
     "data": {
      "text/plain": [
       "array([[-0.16574552,  1.29715088],\n",
       "       [ 0.42276144, -0.13022614],\n",
       "       [ 0.18151015,  0.71932264],\n",
       "       [-0.34664487,  0.94852988]])"
      ]
     },
     "execution_count": 91,
     "metadata": {},
     "output_type": "execute_result"
    }
   ],
   "source": [
    "weightDFPCA[index]"
   ]
  },
  {
   "cell_type": "code",
   "execution_count": 94,
   "metadata": {},
   "outputs": [
    {
     "data": {
      "text/plain": [
       "-0.40699681"
      ]
     },
     "execution_count": 94,
     "metadata": {},
     "output_type": "execute_result"
    }
   ],
   "source": [
    "-0.16574552-0.42276144+0.18151015"
   ]
  },
  {
   "cell_type": "code",
   "execution_count": 92,
   "metadata": {},
   "outputs": [],
   "source": [
    "myWeigts = weightDFPCA[index]"
   ]
  },
  {
   "cell_type": "code",
   "execution_count": 98,
   "metadata": {},
   "outputs": [],
   "source": [
    "myWeigts[3][1] = 1.71"
   ]
  },
  {
   "cell_type": "code",
   "execution_count": 99,
   "metadata": {},
   "outputs": [
    {
     "data": {
      "image/png": "[encoded data removed]",
      "text/plain": [
       "<Figure size 936x504 with 1 Axes>"
      ]
     },
     "metadata": {
      "needs_background": "light"
     },
     "output_type": "display_data"
    }
   ],
   "source": [
    "import matplotlib.pyplot as plt\n",
    "plt.figure(figsize=(13,7))\n",
    "plt.scatter(myWeigts[:,0],myWeigts[:,1],linewidths=10,color='blue')\n",
    "plt.xlabel(\"PC1\",size=15)\n",
    "plt.ylabel(\"PC2\",size=15)\n",
    "plt.title(\"Word Embedding Space\",size=20)\n",
    "for i, word in enumerate(myVocab):\n",
    "  plt.annotate(word,xy=(myWeigts[i,0],myWeigts[i,1]))"
   ]
  }
 ],
 "metadata": {
  "kernelspec": {
   "display_name": "Python 3",
   "language": "python",
   "name": "python3"
  },
  "language_info": {
   "codemirror_mode": {
    "name": "ipython",
    "version": 3
   },
   "file_extension": ".py",
   "mimetype": "text/x-python",
   "name": "python",
   "nbconvert_exporter": "python",
   "pygments_lexer": "ipython3",
   "version": "3.9.6"
  },
  "orig_nbformat": 4,
  "vscode": {
   "interpreter": {
    "hash": "949777d72b0d2535278d3dc13498b2535136f6dfe0678499012e853ee9abcab1"
   }
  }
 },
 "nbformat": 4,
 "nbformat_minor": 2
}
